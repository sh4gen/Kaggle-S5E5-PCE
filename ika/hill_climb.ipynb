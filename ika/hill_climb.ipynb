{
 "cells": [
  {
   "cell_type": "code",
   "execution_count": 2,
   "id": "fd43830f",
   "metadata": {},
   "outputs": [
    {
     "name": "stdout",
     "output_type": "stream",
     "text": [
      "\u001b[33mDEPRECATION: Loading egg at /home/ika1/.conda/envs/py311/lib/python3.11/site-packages/nms-0.0.0-py3.11-linux-x86_64.egg is deprecated. pip 25.1 will enforce this behaviour change. A possible replacement is to use pip for package installation. Discussion can be found at https://github.com/pypa/pip/issues/12330\u001b[0m\u001b[33m\n",
      "\u001b[0mRequirement already satisfied: cupy-cuda12x in /home/ika1/.conda/envs/py311/lib/python3.11/site-packages (13.4.1)\n",
      "Requirement already satisfied: numpy<2.3,>=1.22 in /home/ika1/.conda/envs/py311/lib/python3.11/site-packages (from cupy-cuda12x) (1.26.4)\n",
      "Requirement already satisfied: fastrlock>=0.5 in /home/ika1/.conda/envs/py311/lib/python3.11/site-packages (from cupy-cuda12x) (0.8.3)\n",
      "Note: you may need to restart the kernel to use updated packages.\n"
     ]
    }
   ],
   "source": [
    "%pip install cupy-cuda12x"
   ]
  },
  {
   "cell_type": "code",
   "execution_count": 3,
   "id": "b583ee9a",
   "metadata": {},
   "outputs": [
    {
     "name": "stdout",
     "output_type": "stream",
     "text": [
      "\u001b[1m\u001b[94mConfiguration\u001b[0m\n",
      "\n",
      "   Metric:                       rmse\n",
      "   Objective:                    minimize\n",
      "   Precision:                    0.0001\n",
      "   Allow negative weights:       False\n",
      "   Starting model:               best\n",
      "   Number of parallel jobs:      1\n",
      "   Number of models:             2\n",
      "   Using GPU:                    False\n",
      "\n",
      "\n",
      "\u001b[1m\u001b[94mModels\u001b[0m\n",
      "\n",
      "   \u001b[92mcb    0.059315 █ (best)\u001b[0m\n",
      "   xgb   0.059892 ████████████████████████████████████████\n",
      "\n",
      "\n",
      "\u001b[1m\u001b[94mRunning Hill Climbing\u001b[0m\n",
      "\n",
      "   Iter   Model     Weight        Score      Improvement         Time\n",
      "   ────────────────────────────────────────────────────────────────\n",
      "   \u001b[92m   0   cb      1.0000     0.059315                -            -\u001b[0m\n",
      "   \u001b[92m   1   xgb     0.3209     0.059148         0.000167        55.10\u001b[0m\n",
      "\n",
      "\n",
      "\u001b[1m\u001b[94mResults\u001b[0m\n",
      "\n",
      "   Number of models in ensemble:      2\n",
      "   Overall improvement:               \u001b[92m+0.000167 (+0.28%)\u001b[0m\n",
      "   Total time:                        55.14 seconds\n",
      "   Average iteration time:            27.56 seconds\n",
      "   Final score:                       0.059148\n"
     ]
    }
   ],
   "source": [
    "from hill_climbing import Climber\n",
    "import cupy as cp\n",
    "import pandas as pd \n",
    "import numpy as np\n",
    "\n",
    "# 1. Load OOF predictions correctly\n",
    "oof_cb = np.load(\"oofs/cb_oof_preds.npy\")  # Load numpy arrays directly\n",
    "oof_xgb = np.load(\"oofs/xgb_oof_preds.npy\")\n",
    "\n",
    "# 2. Create ensemble dataframe (adapt based on your actual OOF files)\n",
    "oofs = pd.DataFrame({\n",
    "    'cb': np.log1p(oof_cb),\n",
    "    'xgb': oof_xgb,\n",
    "    # Add other models as needed\n",
    "})\n",
    "\n",
    "# 3. Load labels with consistent transformation\n",
    "raw_labels = pd.read_csv(\"train.csv\")[\"Calories\"]\n",
    "labels = np.log1p(raw_labels)  # Same transformation as training\n",
    "\n",
    "# 4. Load test predictions with proper transformation\n",
    "test_preds = pd.DataFrame()\n",
    "test_preds_gbdt = pd.read_csv(\"test_preds/gbdt.csv\")\n",
    "\n",
    "# Apply same transformation as used in training\n",
    "test_preds[\"cb\"] = test_preds_gbdt[\"cb\"]\n",
    "test_preds[\"xgb\"] = test_preds_gbdt[\"xgb_best\"]\n",
    "\n",
    "\n",
    "def rmse(y_true, y_pred):\n",
    "    \"\"\"Consistent metric with training evaluation\"\"\"\n",
    "    if isinstance(y_true, cp.ndarray):  # GPU mode\n",
    "        return cp.sqrt(cp.mean((y_true - y_pred) ** 2))\n",
    "    else:  # CPU mode\n",
    "        return np.sqrt(np.mean((y_true - y_pred) ** 2))\n",
    "\n",
    "# 5. Initialize climber with proper configuration\n",
    "climber = Climber(\n",
    "    objective=\"minimize\",\n",
    "    eval_metric=rmse,\n",
    "    allow_negative_weights=False,    \n",
    "    score_decimal_places=6,\n",
    "    precision=0.0001,\n",
    "    n_jobs=1,\n",
    "    use_gpu=True\n",
    ").fit(oofs, labels)\n",
    "\n",
    "\n",
    "#final_predictions = np.expm1(ensemble_test_pred)"
   ]
  },
  {
   "cell_type": "code",
   "execution_count": 4,
   "id": "7225b729",
   "metadata": {},
   "outputs": [],
   "source": [
    "preds = np.expm1(climber.predict(test_preds))"
   ]
  },
  {
   "cell_type": "code",
   "execution_count": 5,
   "id": "1013b569",
   "metadata": {},
   "outputs": [],
   "source": [
    "test_df=pd.read_csv(\"test.csv\")\n",
    "\n",
    "submission = pd.DataFrame({\"id\": test_df[\"id\"], \"prediction\": np.expm1(preds)})\n",
    "\n",
    "submission.to_csv(\"submission_hillclimb.csv\", index=False)\n"
   ]
  },
  {
   "cell_type": "code",
   "execution_count": 8,
   "id": "47118a11",
   "metadata": {},
   "outputs": [
    {
     "name": "stdout",
     "output_type": "stream",
     "text": [
      "Optimal weights: {'cb': 0.6792815957311169, 'xgb': 0.3207184042688831}\n"
     ]
    }
   ],
   "source": [
    "import numpy as np\n",
    "from scipy.optimize import minimize\n",
    "\n",
    "# 1. Prepare your OOF predictions and labels\n",
    "X = oofs.values  # Shape (n_samples, n_models)\n",
    "y = labels.values  # True target values\n",
    "\n",
    "# 2. Define objective function\n",
    "def objective(weights):\n",
    "    \"\"\"Calculate RMSE for given ensemble weights\"\"\"\n",
    "    weighted_avg = X @ weights  # Matrix multiplication\n",
    "    return np.sqrt(np.mean((y - weighted_avg) ** 2))\n",
    "\n",
    "# 3. Set up constraints\n",
    "constraints = (\n",
    "    {'type': 'eq', 'fun': lambda w: np.sum(w) - 1}  # Weights sum to 1\n",
    ")\n",
    "\n",
    "# 4. Set bounds (force non-negative weights)\n",
    "bounds = [(0, 1) for _ in range(X.shape[1])]\n",
    "\n",
    "# 5. Initial guess (equal weights)\n",
    "initial_weights = np.ones(X.shape[1]) / X.shape[1]\n",
    "\n",
    "# 6. Run optimization\n",
    "result = minimize(\n",
    "    objective,\n",
    "    x0=initial_weights,\n",
    "    method='SLSQP',\n",
    "    bounds=bounds,\n",
    "    constraints=constraints,\n",
    "    options={'maxiter': 1000, 'ftol': 1e-8}\n",
    ")\n",
    "\n",
    "# 7. Extract optimal weights\n",
    "best_weights = result.x\n",
    "print(\"Optimal weights:\", dict(zip(oofs.columns, best_weights)))\n",
    "\n",
    "\n",
    "test_preds[\"final_preds\"] = test_preds[\"cb\"]*0.6792815957311169 + test_preds[\"xgb\"] *0.3207184042688831\n",
    "\n",
    "submission = pd.DataFrame({\"id\": test_df[\"id\"], \"prediction\": np.expm1(test_preds[\"final_preds\"])})\n",
    "\n",
    "submission.to_csv(\"submission_optimized_weights.csv\", index=False)"
   ]
  }
 ],
 "metadata": {
  "kernelspec": {
   "display_name": "py311",
   "language": "python",
   "name": "python3"
  },
  "language_info": {
   "codemirror_mode": {
    "name": "ipython",
    "version": 3
   },
   "file_extension": ".py",
   "mimetype": "text/x-python",
   "name": "python",
   "nbconvert_exporter": "python",
   "pygments_lexer": "ipython3",
   "version": "3.11.11"
  }
 },
 "nbformat": 4,
 "nbformat_minor": 5
}
