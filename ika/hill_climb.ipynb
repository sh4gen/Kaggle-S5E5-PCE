{
 "cells": [
  {
   "cell_type": "code",
   "execution_count": 30,
   "id": "fd43830f",
   "metadata": {},
   "outputs": [
    {
     "name": "stdout",
     "output_type": "stream",
     "text": [
      "\u001b[33mDEPRECATION: Loading egg at /home/ika1/.conda/envs/py311/lib/python3.11/site-packages/nms-0.0.0-py3.11-linux-x86_64.egg is deprecated. pip 25.1 will enforce this behaviour change. A possible replacement is to use pip for package installation. Discussion can be found at https://github.com/pypa/pip/issues/12330\u001b[0m\u001b[33m\n",
      "\u001b[0mRequirement already satisfied: cupy-cuda12x in /home/ika1/.conda/envs/py311/lib/python3.11/site-packages (13.4.1)\n",
      "Requirement already satisfied: numpy<2.3,>=1.22 in /home/ika1/.conda/envs/py311/lib/python3.11/site-packages (from cupy-cuda12x) (1.26.4)\n",
      "Requirement already satisfied: fastrlock>=0.5 in /home/ika1/.conda/envs/py311/lib/python3.11/site-packages (from cupy-cuda12x) (0.8.3)\n",
      "Note: you may need to restart the kernel to use updated packages.\n"
     ]
    }
   ],
   "source": [
    "%pip install cupy-cuda12x"
   ]
  },
  {
   "cell_type": "code",
   "execution_count": 31,
   "id": "a20907ec",
   "metadata": {},
   "outputs": [
    {
     "name": "stdout",
     "output_type": "stream",
     "text": [
      "\u001b[1m\u001b[94mConfiguration\u001b[0m\n",
      "\n",
      "   Metric:                       rmse\n",
      "   Objective:                    minimize\n",
      "   Precision:                    0.001\n",
      "   Allow negative weights:       False\n",
      "   Starting model:               best\n",
      "   Number of parallel jobs:      1\n",
      "   Number of models:             3\n",
      "   Using GPU:                    False\n",
      "\n",
      "\n",
      "\u001b[1m\u001b[94mModels\u001b[0m\n",
      "\n",
      "   \u001b[92mxgb        0.050652 █ (best)\u001b[0m\n",
      "   xgb_dumb   0.052870 ███████████████████\n",
      "   cb         0.055240 ████████████████████████████████████████\n",
      "\n",
      "\n",
      "\u001b[1m\u001b[94mRunning Hill Climbing\u001b[0m\n",
      "\n",
      "   Iter   Model        Weight        Score      Improvement         Time\n",
      "   ─────────────────────────────────────────────────────────────────────\n",
      "   \u001b[92m   0   xgb           1.000     0.050652                -            -\u001b[0m\n",
      "\n",
      "\n",
      "\u001b[1m\u001b[94mResults\u001b[0m\n",
      "\n",
      "   Number of models in ensemble:      1\n",
      "   Total time:                        6.38 seconds\n",
      "   Average iteration time:            0.02 seconds\n",
      "   Final score:                       0.050652\n"
     ]
    }
   ],
   "source": [
    "from hill_climbing import Climber\n",
    "import cupy as cp\n",
    "import pandas as pd \n",
    "import numpy as np\n",
    "\n",
    "\n",
    "oof_cb = pd.read_csv(\"oofs/catboost_oofs.csv\")\n",
    "oof_curve = pd.read_csv(\"oofs/curve_model_oofs.csv\")\n",
    "oof_xgb_dumb = pd.read_csv(\"oofs/xgb_dumb_oofs.csv\")\n",
    "oof_xgb= pd.read_csv(\"oofs/xgb_oofs.csv\")\n",
    "\n",
    "labels = np.log1p(pd.read_csv(\"train.csv\")[\"Calories\"])\n",
    "\n",
    "test_preds_curve = pd.read_csv(\"test_preds/curved.csv\")#,Heart_Rate_Pred,Body_Temp_Pred,Duration_Pred\n",
    "test_preds_gbdt = pd.read_csv(\"test_preds/gbdt.csv\")#,xgb_best,xgb_dumb,cb\n",
    "\n",
    "test_preds = pd.DataFrame()\n",
    "\n",
    "#test_preds[\"curve_duration\"] = np.log1p(test_preds_curve[\"Duration_Pred\"])\n",
    "#test_preds[\"curve_heartrate\"] = np.log1p(test_preds_curve[\"Heart_Rate_Pred\"])\n",
    "#test_preds[\"curve_bodytemp\"] = np.log1p(test_preds_curve[\"Body_Temp_Pred\"])\n",
    "\n",
    "test_preds[\"cb\"] = np.log1p(test_preds_gbdt[\"cb\"])\n",
    "test_preds[\"xgb\"] = np.log1p(test_preds_gbdt[\"xgb_best\"])  \n",
    "test_preds[\"xgb_dumb\"] = np.log1p(test_preds_gbdt[\"xgb_dumb\"])\n",
    "\n",
    "oofs = pd.DataFrame()\n",
    "\n",
    "oofs[\"cb\"] = np.log1p(oof_cb[\"cb\"])\n",
    "oofs[\"xgb\"] = np.log1p(oof_xgb[\"xgb\"])\n",
    "oofs[\"xgb_dumb\"] = np.log1p(oof_xgb_dumb[\"xgb_dumb\"])\n",
    "#oofs[\"curve_duration\"] = np.log1p(oof_curve[\"Duration_Pred\"])\n",
    "#oofs[\"curve_heartrate\"] = np.log1p(oof_curve[\"Heart_Rate_Pred\"])\n",
    "#oofs[\"curve_bodytemp\"] = np.log1p(oof_curve[\"Body_Temp_Pred\"])\n",
    "\n",
    "\n",
    "def rmse(y_true, y_pred):\n",
    "    if isinstance(y_true, cp.ndarray):  # GPU mode\n",
    "        return cp.sqrt(cp.mean((y_true - y_pred) ** 2))\n",
    "    else:  # CPU mode\n",
    "        return np.sqrt(np.mean((y_true - y_pred) ** 2))\n",
    "\n",
    "climber = Climber(\n",
    "    objective=\"minimize\",\n",
    "    eval_metric=rmse,\n",
    "    allow_negative_weights=False,    \n",
    "    score_decimal_places=6,\n",
    "    precision=0.001,\n",
    "    n_jobs=1,\n",
    "    use_gpu=True\n",
    ").fit(oofs, labels)\n",
    "\n"
   ]
  },
  {
   "cell_type": "code",
   "execution_count": 32,
   "id": "7225b729",
   "metadata": {},
   "outputs": [],
   "source": [
    "preds = np.expm1(climber.predict(test_preds))"
   ]
  },
  {
   "cell_type": "code",
   "execution_count": 33,
   "id": "1013b569",
   "metadata": {},
   "outputs": [],
   "source": [
    "test_df=pd.read_csv(\"test.csv\")\n",
    "\n",
    "submission = pd.DataFrame({\"id\": test_df[\"id\"], \"prediction\": np.expm1(preds)})\n",
    "\n",
    "submission.to_csv(\"submission_hillclimb.csv\", index=False)\n"
   ]
  },
  {
   "cell_type": "code",
   "execution_count": 35,
   "id": "47118a11",
   "metadata": {},
   "outputs": [
    {
     "name": "stdout",
     "output_type": "stream",
     "text": [
      "Optimal weights: {'cb': 0.0, 'xgb': 1.0, 'xgb_dumb': 5.551115123125783e-17}\n"
     ]
    }
   ],
   "source": [
    "import numpy as np\n",
    "from scipy.optimize import minimize\n",
    "\n",
    "# 1. Prepare your OOF predictions and labels\n",
    "X = oofs.values  # Shape (n_samples, n_models)\n",
    "y = labels.values  # True target values\n",
    "\n",
    "# 2. Define objective function\n",
    "def objective(weights):\n",
    "    \"\"\"Calculate RMSE for given ensemble weights\"\"\"\n",
    "    weighted_avg = X @ weights  # Matrix multiplication\n",
    "    return np.sqrt(np.mean((y - weighted_avg) ** 2))\n",
    "\n",
    "# 3. Set up constraints\n",
    "constraints = (\n",
    "    {'type': 'eq', 'fun': lambda w: np.sum(w) - 1}  # Weights sum to 1\n",
    ")\n",
    "\n",
    "# 4. Set bounds (force non-negative weights)\n",
    "bounds = [(0, 1) for _ in range(X.shape[1])]\n",
    "\n",
    "# 5. Initial guess (equal weights)\n",
    "initial_weights = np.ones(X.shape[1]) / X.shape[1]\n",
    "\n",
    "# 6. Run optimization\n",
    "result = minimize(\n",
    "    objective,\n",
    "    x0=initial_weights,\n",
    "    method='SLSQP',\n",
    "    bounds=bounds,\n",
    "    constraints=constraints,\n",
    "    options={'maxiter': 1000, 'ftol': 1e-8}\n",
    ")\n",
    "\n",
    "# 7. Extract optimal weights\n",
    "best_weights = result.x\n",
    "print(\"Optimal weights:\", dict(zip(oofs.columns, best_weights)))\n",
    "\n",
    "# 8. Apply to test data (MUST match column order!)\n",
    "test_matrix = test_preds[oofs.columns].values\n",
    "test_pred = test_matrix @ best_weights\n",
    "\n",
    "# 9. Convert back from log scale\n",
    "final_preds = np.expm1(test_pred)"
   ]
  }
 ],
 "metadata": {
  "kernelspec": {
   "display_name": "py311",
   "language": "python",
   "name": "python3"
  },
  "language_info": {
   "codemirror_mode": {
    "name": "ipython",
    "version": 3
   },
   "file_extension": ".py",
   "mimetype": "text/x-python",
   "name": "python",
   "nbconvert_exporter": "python",
   "pygments_lexer": "ipython3",
   "version": "3.11.11"
  }
 },
 "nbformat": 4,
 "nbformat_minor": 5
}
